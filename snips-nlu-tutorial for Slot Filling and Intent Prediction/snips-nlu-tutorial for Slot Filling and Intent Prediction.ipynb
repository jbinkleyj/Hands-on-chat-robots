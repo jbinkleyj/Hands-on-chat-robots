{
 "cells": [
  {
   "cell_type": "markdown",
   "metadata": {},
   "source": [
    "# snips-nlu-tutorial for Slot Filling and Intent Prediction\n",
    "> Main reference: [Snips-NLU document](https://snips-nlu.readthedocs.io/en/latest/) and [Snips-NLU GitHub](https://github.com/snipsco/snips-nlu)"
   ]
  },
  {
   "cell_type": "markdown",
   "metadata": {},
   "source": [
    "## What are Slot and Intent?"
   ]
  },
  {
   "cell_type": "markdown",
   "metadata": {},
   "source": [
    "![Snips NLU Processing Pipeline](https://cdn-images-1.medium.com/max/2000/0*Ti7i79hqYC-0lEYM.)"
   ]
  },
  {
   "cell_type": "markdown",
   "metadata": {},
   "source": [
    "## More Info\n",
    "+ Paper: [Snips Voice Platform: an embedded Spoken Language Understanding system for private-by-design voice interfaces](https://arxiv.org/abs/1805.10190)\n",
    "+ Product: [Snips](https://snips.ai/)\n",
    "+ Blog: [An Introduction to Snips NLU, the Open Source Library behind Snips Embedded Voice Platform](https://medium.com/snips-ai/an-introduction-to-snips-nlu-the-open-source-library-behind-snips-embedded-voice-platform-b12b1a60a41a)"
   ]
  },
  {
   "cell_type": "markdown",
   "metadata": {},
   "source": [
    "## [Installation](https://snips-nlu.readthedocs.io/en/latest/installation.html)"
   ]
  },
  {
   "cell_type": "code",
   "execution_count": null,
   "metadata": {},
   "outputs": [],
   "source": [
    "!pip install snips-nlu\n",
    "!python -m snips_nlu download en"
   ]
  },
  {
   "cell_type": "code",
   "execution_count": 1,
   "metadata": {},
   "outputs": [],
   "source": [
    "import io\n",
    "import json\n",
    "from snips_nlu.dataset import Dataset\n",
    "from snips_nlu import SnipsNLUEngine\n",
    "from snips_nlu.default_configs import CONFIG_EN\n",
    "from snips_nlu.common.utils import json_string"
   ]
  },
  {
   "cell_type": "markdown",
   "metadata": {},
   "source": [
    "## [Tutorial](https://snips-nlu.readthedocs.io/en/latest/tutorial.html#tutorial)"
   ]
  },
  {
   "cell_type": "markdown",
   "metadata": {},
   "source": [
    "In this section, we will build an NLU assistant for home automation tasks. It will be able to understand queries about lights and thermostats. More precisely, our assistant will contain three intents:\n",
    "+ turnLightOn\n",
    "+ turnLightOff\n",
    "+ setTemperature"
   ]
  },
  {
   "cell_type": "markdown",
   "metadata": {},
   "source": [
    "## Traning Data"
   ]
  },
  {
   "cell_type": "code",
   "execution_count": 2,
   "metadata": {},
   "outputs": [],
   "source": [
    "dataset_ymal = io.StringIO('''\n",
    "# turnLightOn intent\n",
    "---\n",
    "type: intent\n",
    "name: turnLightOn\n",
    "slots:\n",
    "  - name: room\n",
    "    entity: room\n",
    "utterances:\n",
    "  - Turn on the lights in the [room](kitchen)\n",
    "  - give me some light in the [room](bathroom) please\n",
    "  - Can you light up the [room](living room) ?\n",
    "  - switch the [room](bedroom)'s lights on please\n",
    "\n",
    "# turnLightOff intent\n",
    "---\n",
    "type: intent\n",
    "name: turnLightOff\n",
    "slots:\n",
    "  - name: room\n",
    "    entity: room\n",
    "utterances:\n",
    "  - Turn off the lights in the [room](entrance)\n",
    "  - turn the [room](bathroom)'s light out please\n",
    "  - switch off the light the [room](kitchen), will you?\n",
    "  - Switch the [room](bedroom)'s lights off please\n",
    "\n",
    "# setTemperature intent\n",
    "---\n",
    "type: intent\n",
    "name: setTemperature\n",
    "slots:\n",
    "  - name: room\n",
    "    entity: room\n",
    "  - name: roomTemperature\n",
    "    entity: snips/temperature\n",
    "utterances:\n",
    "  - Set the temperature to [roomTemperature](19 degrees) in the [room](bedroom)\n",
    "  - please set the [room](living room)'s temperature to [roomTemperature](twenty two degrees celsius)\n",
    "  - I want [roomTemperature](75 degrees fahrenheit) in the [room](bathroom) please\n",
    "  - Can you increase the temperature to [roomTemperature](22 degrees) ?\n",
    "\n",
    "# room entity\n",
    "---\n",
    "type: entity\n",
    "name: room\n",
    "automatically_extensible: no\n",
    "values:\n",
    "- bedroom\n",
    "- [living room, main room, lounge]\n",
    "- [garden, yard, backyard]''')"
   ]
  },
  {
   "cell_type": "markdown",
   "metadata": {},
   "source": [
    "Here, we put all the intents and entities in the same file but we could have split them in dedicated files as well.\n",
    "\n",
    "The setTemperature intent references a roomTemperature slot which relies on the snips/temperature entity. This entity is a builtin entity. It allows to resolve the temperature values properly.\n",
    "\n",
    "The room entity makes use of synonyms by defining lists like [living room, main room, lounge]. In this case, main room and lounge will point to living room, the first item of the list, which is the reference value.\n",
    "\n",
    "Besides, this entity is marked as not automatically extensible which means that the NLU will only output values that we have defined and will not try to match other values."
   ]
  },
  {
   "cell_type": "code",
   "execution_count": 15,
   "metadata": {},
   "outputs": [],
   "source": [
    "# snips-nlu generate-dataset en dataset.yaml > dataset.json\n",
    "dataset = Dataset.from_yaml_files(\"en\", [dataset_ymal])"
   ]
  },
  {
   "cell_type": "markdown",
   "metadata": {},
   "source": [
    "## The Snips NLU Engine"
   ]
  },
  {
   "cell_type": "code",
   "execution_count": 4,
   "metadata": {},
   "outputs": [],
   "source": [
    "engine = SnipsNLUEngine(config=CONFIG_EN)"
   ]
  },
  {
   "cell_type": "markdown",
   "metadata": {},
   "source": [
    "## Training the engine"
   ]
  },
  {
   "cell_type": "code",
   "execution_count": 5,
   "metadata": {},
   "outputs": [
    {
     "data": {
      "text/plain": [
       "<snips_nlu.nlu_engine.nlu_engine.SnipsNLUEngine at 0x7f6c05299e80>"
      ]
     },
     "execution_count": 5,
     "metadata": {},
     "output_type": "execute_result"
    }
   ],
   "source": [
    "engine.fit(dataset.json)"
   ]
  },
  {
   "cell_type": "markdown",
   "metadata": {},
   "source": [
    "## Parsing"
   ]
  },
  {
   "cell_type": "code",
   "execution_count": 6,
   "metadata": {},
   "outputs": [
    {
     "data": {
      "text/plain": [
       "{'input': 'Please give me some lights in the entrance !',\n",
       " 'intent': {'intentName': 'turnLightOn', 'probability': 0.6521438361130067},\n",
       " 'slots': [{'range': {'start': 34, 'end': 42},\n",
       "   'rawValue': 'entrance',\n",
       "   'value': {'kind': 'Custom', 'value': 'entrance'},\n",
       "   'entity': 'room',\n",
       "   'slotName': 'room'}]}"
      ]
     },
     "execution_count": 6,
     "metadata": {},
     "output_type": "execute_result"
    }
   ],
   "source": [
    "engine.parse(u\"Please give me some lights in the entrance !\")"
   ]
  },
  {
   "cell_type": "code",
   "execution_count": 7,
   "metadata": {},
   "outputs": [
    {
     "name": "stdout",
     "output_type": "stream",
     "text": [
      "{\n",
      "  \"input\": \"Hey, lights on in the lounge !\",\n",
      "  \"intent\": {\n",
      "    \"intentName\": \"turnLightOn\",\n",
      "    \"probability\": 0.6426581422388888\n",
      "  },\n",
      "  \"slots\": [\n",
      "    {\n",
      "      \"range\": {\n",
      "        \"start\": 22,\n",
      "        \"end\": 28\n",
      "      },\n",
      "      \"rawValue\": \"lounge\",\n",
      "      \"value\": {\n",
      "        \"kind\": \"Custom\",\n",
      "        \"value\": \"living room\"\n",
      "      },\n",
      "      \"entity\": \"room\",\n",
      "      \"slotName\": \"room\"\n",
      "    }\n",
      "  ]\n",
      "}\n"
     ]
    }
   ],
   "source": [
    "parsing = engine.parse(u\"Hey, lights on in the lounge !\")\n",
    "print(json.dumps(parsing, indent=2))"
   ]
  },
  {
   "cell_type": "markdown",
   "metadata": {},
   "source": [
    "Notice that the lounge slot value points to living room as defined earlier in the entity synonyms of the dataset."
   ]
  },
  {
   "cell_type": "markdown",
   "metadata": {},
   "source": [
    "Now, let’s say the intent is already known and provided by the context of the application, but the slots must still be extracted. A second parsing API allows to extract the slots while providing the intent:"
   ]
  },
  {
   "cell_type": "code",
   "execution_count": 8,
   "metadata": {},
   "outputs": [
    {
     "name": "stdout",
     "output_type": "stream",
     "text": [
      "[\n",
      "  {\n",
      "    \"range\": {\n",
      "      \"start\": 22,\n",
      "      \"end\": 28\n",
      "    },\n",
      "    \"rawValue\": \"lounge\",\n",
      "    \"value\": {\n",
      "      \"kind\": \"Custom\",\n",
      "      \"value\": \"living room\"\n",
      "    },\n",
      "    \"entity\": \"room\",\n",
      "    \"slotName\": \"room\"\n",
      "  }\n",
      "]\n"
     ]
    }
   ],
   "source": [
    "parsing = engine.get_slots(u\"Hey, lights on in the lounge !\", \"turnLightOn\")\n",
    "print(json.dumps(parsing, indent=2))"
   ]
  },
  {
   "cell_type": "markdown",
   "metadata": {},
   "source": [
    "Finally, there is another method that allows to run only the intent classification and get the list of intents along with their score:"
   ]
  },
  {
   "cell_type": "code",
   "execution_count": 9,
   "metadata": {},
   "outputs": [
    {
     "name": "stdout",
     "output_type": "stream",
     "text": [
      "[\n",
      "  {\n",
      "    \"intentName\": \"turnLightOn\",\n",
      "    \"probability\": 0.6426581422388888\n",
      "  },\n",
      "  {\n",
      "    \"intentName\": null,\n",
      "    \"probability\": 0.31152377377334123\n",
      "  },\n",
      "  {\n",
      "    \"intentName\": \"turnLightOff\",\n",
      "    \"probability\": 0.18934883142013287\n",
      "  },\n",
      "  {\n",
      "    \"intentName\": \"setTemperature\",\n",
      "    \"probability\": 0.14796236731325962\n",
      "  }\n",
      "]\n"
     ]
    }
   ],
   "source": [
    "intents = engine.get_intents(u\"Hey, lights on in the lounge !\")\n",
    "print(json.dumps(intents, indent=2))"
   ]
  },
  {
   "cell_type": "markdown",
   "metadata": {},
   "source": [
    "### Persisting"
   ]
  },
  {
   "cell_type": "markdown",
   "metadata": {},
   "source": [
    "As a final step, we will persist the engine into a directory. That may be useful in various contexts, for instance if you want to train on a machine and parse on another one.\n",
    "\n",
    "You can persist the engine with the following API:"
   ]
  },
  {
   "cell_type": "code",
   "execution_count": 13,
   "metadata": {},
   "outputs": [],
   "source": [
    "engine.persist(\"engines\")"
   ]
  },
  {
   "cell_type": "markdown",
   "metadata": {},
   "source": [
    "And load it:"
   ]
  },
  {
   "cell_type": "code",
   "execution_count": 14,
   "metadata": {},
   "outputs": [
    {
     "data": {
      "text/plain": [
       "{'input': 'Turn lights on in the bathroom please',\n",
       " 'intent': {'intentName': 'turnLightOn', 'probability': 0.6545729693278636},\n",
       " 'slots': [{'range': {'start': 22, 'end': 30},\n",
       "   'rawValue': 'bathroom',\n",
       "   'value': {'kind': 'Custom', 'value': 'bathroom'},\n",
       "   'entity': 'room',\n",
       "   'slotName': 'room'}]}"
      ]
     },
     "execution_count": 14,
     "metadata": {},
     "output_type": "execute_result"
    }
   ],
   "source": [
    "loaded_engine = SnipsNLUEngine.from_path(\"engines\")\n",
    "\n",
    "loaded_engine.parse(u\"Turn lights on in the bathroom please\")"
   ]
  },
  {
   "cell_type": "markdown",
   "metadata": {},
   "source": [
    "Alternatively, you can persist/load the engine as a bytearray:"
   ]
  },
  {
   "cell_type": "code",
   "execution_count": 16,
   "metadata": {},
   "outputs": [],
   "source": [
    "engine_bytes = engine.to_byte_array()\n",
    "loaded_engine = SnipsNLUEngine.from_byte_array(engine_bytes)"
   ]
  }
 ],
 "metadata": {
  "kernelspec": {
   "display_name": "Python 3",
   "language": "python",
   "name": "python3"
  },
  "language_info": {
   "codemirror_mode": {
    "name": "ipython",
    "version": 3
   },
   "file_extension": ".py",
   "mimetype": "text/x-python",
   "name": "python",
   "nbconvert_exporter": "python",
   "pygments_lexer": "ipython3",
   "version": "3.7.0"
  }
 },
 "nbformat": 4,
 "nbformat_minor": 2
}
